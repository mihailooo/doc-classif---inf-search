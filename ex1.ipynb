{
 "cells": [
  {
   "cell_type": "markdown",
   "metadata": {},
   "source": [
    "# Задание 1\n",
    "\n",
    "[Свертка списка](https://ru.wikipedia.org/wiki/%D0%A1%D0%B2%D1%91%D1%80%D1%82%D0%BA%D0%B0_%D1%81%D0%BF%D0%B8%D1%81%D0%BA%D0%B0) -  это обобщенная операция над списком, c помощью которой можно преобразовать список в единое значение. Например рассмотрим реализации свертки слева и свертки справа (левоассоциативную свертку и правоассоциативную свертку):"
   ]
  },
  {
   "cell_type": "code",
   "execution_count": 2,
   "metadata": {
    "collapsed": true
   },
   "outputs": [],
   "source": [
    "def foldl(f, x0, lst):\n",
    "    if not lst:\n",
    "        return x0\n",
    "    return foldl(f, f(x0, lst[0]), lst[1:])\n",
    "\n",
    "def foldr(f, x0, lst):\n",
    "    if not lst:\n",
    "        return x0\n",
    "    return f(lst[0], foldr(f, x0, lst[1:]))"
   ]
  },
  {
   "cell_type": "code",
   "execution_count": 3,
   "metadata": {},
   "outputs": [
    {
     "data": {
      "text/plain": [
       "6"
      ]
     },
     "execution_count": 3,
     "metadata": {},
     "output_type": "execute_result"
    }
   ],
   "source": [
    "#сумма\n",
    "foldl(lambda x, y: x + y, 0, [1, 2, 3])"
   ]
  },
  {
   "cell_type": "code",
   "execution_count": 4,
   "metadata": {},
   "outputs": [
    {
     "data": {
      "text/plain": [
       "'123'"
      ]
     },
     "execution_count": 4,
     "metadata": {},
     "output_type": "execute_result"
    }
   ],
   "source": [
    "#конкатенация\n",
    "foldl(lambda x, y: '{}{}'.format(x, y), '', [1, 2, 3])"
   ]
  },
  {
   "cell_type": "code",
   "execution_count": 5,
   "metadata": {},
   "outputs": [
    {
     "data": {
      "text/plain": [
       "(0.16666666666666666, 1.5)"
      ]
     },
     "execution_count": 5,
     "metadata": {},
     "output_type": "execute_result"
    }
   ],
   "source": [
    "from __future__ import division\n",
    "\n",
    "f = lambda x, y: x / y\n",
    "foldl(f, 1, [1, 2, 3]), \\\n",
    "foldr(f, 1, [1, 2, 3])"
   ]
  },
  {
   "cell_type": "markdown",
   "metadata": {},
   "source": [
    "Задача: реализовать foldl через foldr и наоборот. Вместо многоточий нужно вставить выражения, которые бы привели к нужному результату."
   ]
  },
  {
   "cell_type": "code",
   "execution_count": 1,
   "metadata": {
    "collapsed": true
   },
   "outputs": [],
   "source": [
    "#   Базовая функция должна возвращать функцию, применение \n",
    "# которой к x0 вернет нужное значение.\n",
    "#   Рассматривая частные случаи с пустым и одноэлементным \n",
    "# списками, можно прийти к таким решениям:\n",
    "\n",
    "def foldl2(f, x0, lst):\n",
    "    return foldr(lambda elem, res_func: lambda e: res_func(f(e, elem)), lambda e: e, lst)(x0)"
   ]
  },
  {
   "cell_type": "code",
   "execution_count": 2,
   "metadata": {
    "collapsed": true
   },
   "outputs": [],
   "source": [
    "def foldr2(f, x0, lst):\n",
    "    return foldl(lambda res_func, elem: lambda e: res_func(f(elem, e)), lambda e: e, lst)(x0)"
   ]
  },
  {
   "cell_type": "markdown",
   "metadata": {},
   "source": [
    "# Задание 2\n",
    "\n",
    "нужно написать функцию, которая принимает две строки и проверяет, входит ли хотя бы одна перестановка второй строки в первую. Например:\n",
    "\n",
    "> a = 'abcrotm'\n",
    "> \n",
    "> b = 'tro'\n",
    "\n",
    "функция def check_inv(a, b) вернет True, так как 'rot' содержится в 'abcrotm'. Нужно подумать как можно более оптимальный алгоритм и оценить его сложность. "
   ]
  },
  {
   "cell_type": "code",
   "execution_count": 1,
   "metadata": {},
   "outputs": [
    {
     "data": {
      "text/plain": [
       "True"
      ]
     },
     "execution_count": 1,
     "metadata": {},
     "output_type": "execute_result"
    }
   ],
   "source": [
    "import random\n",
    "\n",
    "# таблица хеш значений для символов. \n",
    "# Для юникодных символов можно использовать \"настоящую\" хеш функцию.\n",
    "CH_HASH = [random.randint(1, 2**63) for i in xrange(256)]\n",
    "\n",
    "def check_inv(a, b):\n",
    "    \"\"\"\n",
    "          При движении окна длины len(b) по строке а можно эффективно вычислять \n",
    "        сумму хешей символов попадающих в окно. \n",
    "          Если эта сумма не совпадает с вычисленной заранее аналогичной суммой для \n",
    "        строки b. То окно заведомо не содержит перестановку символов b. \n",
    "          Если суммы совпадают, то сортируем символы окна и сравниваем с заранее \n",
    "        отсортироваными символами строки b.\n",
    "        \n",
    "          При условии len(b) << len(a) и если коллизий мало, временем точной \n",
    "        проверки можно пренебреч.Тогда сложность алгоритма порядка len(a). \n",
    "        \n",
    "          В худшем случве (хеши всех символов равны), будет выполнено len(a) сортировок \n",
    "        содержимого окна что даст сложность len(a) * len(b) * ln(len(b)).\n",
    "        \n",
    "          Эта задача очень похожа на задачу поиска подстроки, что позволяет придумывать \n",
    "        алгоритмы руковдствуясь похожими соображениями. \n",
    "          Предложеный алгоритм, похожий на алгоритм Рабина - Карпа для поиска \n",
    "        подстроки, представляется мне одним из самых простых в реализации.\n",
    "    \"\"\"\n",
    "    if len(a) < len(b): return False\n",
    "    \n",
    "    # Необходимые константы.\n",
    "    b_sum = sum(CH_HASH[ord(c)] for c in b)\n",
    "    b_sort = \"\".join(sorted(b))\n",
    "    \n",
    "    # Проверка на то, что окно длины len(b) и смещением offset от \n",
    "    # начала строки a есть перестановка символов строки b.\n",
    "    def check(offset, w_sum): \n",
    "        if w_sum != b_sum:\n",
    "            return False\n",
    "        return  \"\".join(sorted(a[offset:offset+len(b)])) == b_sort\n",
    "        \n",
    "    # Начальное положение окна.\n",
    "    offset = 0\n",
    "    w_sum = sum(CH_HASH[ord(c)] for c in a[:len(b)])\n",
    "    \n",
    "    # Окно в начальном положении не содержит перестановку.\n",
    "    if check(offset, w_sum): \n",
    "        return True\n",
    "        \n",
    "    # out_ch - Крайне левый символ окна.\n",
    "    # in_ch - Первый символ за правой границей окна.\n",
    "    for out_ch, in_ch in zip(a, a[len(b):]):\n",
    "        # Двигаем окно вправо.\n",
    "        w_sum -= CH_HASH[ord(out_ch)]\n",
    "        w_sum += CH_HASH[ord(in_ch)]\n",
    "        offset += 1\n",
    "        # И снова проверяем.\n",
    "        if check(offset, w_sum): \n",
    "            return True\n",
    "            \n",
    "    return False\n",
    "\n",
    "check_inv('abcrotm','tro')"
   ]
  },
  {
   "cell_type": "markdown",
   "metadata": {},
   "source": [
    "# Задание 3\n",
    "\n",
    "Реализовать бинарное дерево (класс Tree), в нём методы __repr__, __str__, __iter__ (итерация только по листьям)."
   ]
  },
  {
   "cell_type": "code",
   "execution_count": 2,
   "metadata": {},
   "outputs": [
    {
     "data": {
      "text/plain": [
       "True"
      ]
     },
     "execution_count": 2,
     "metadata": {},
     "output_type": "execute_result"
    }
   ],
   "source": [
    "class Tree:\n",
    "    def __init__(self, value=None, left=None, right=None):\n",
    "        self.left = left\n",
    "        self.right = right\n",
    "        self.value = value\n",
    "        \n",
    "    def __iter__(self):\n",
    "        if self.left is None and self.right is None:\n",
    "            # Потомков нет, те мы лист, возвращаем значение.\n",
    "            yield self.value\n",
    "        else:\n",
    "            # Есть потомки, мы внутренний узел. \n",
    "            if self.left is not None:\n",
    "                # Возвращаем все левые листовые значения. \n",
    "                for value in self.left:\n",
    "                    yield value                \n",
    "            if self.right is not None:\n",
    "                # Возвращаем все правые листовые значения. \n",
    "                for value in self.right:\n",
    "                    yield value\n",
    "                    \n",
    "    def __str__(self):\n",
    "        # __str__ возвращает удобочитаемое представление дерева.\n",
    "        # T(Значение, левое поддерево/листовое значение, правое ...)\n",
    "        # 'T(0,T(1,3,4),2)'\n",
    "        value = str(self.value)\n",
    "        left = str(self.left) if self.left is not None else \"\"\n",
    "        right = str(self.right) if self.right is not None else \"\"\n",
    "        if left or right:\n",
    "            return \"T(%s,%s,%s)\" % (value, left, right)\n",
    "        return value\n",
    "    \n",
    "    def __repr__(self):\n",
    "        # __repr__ возвращает максимально однозначное представление дерева.\n",
    "        # Tree(Значение, левое поддерево, правое поддерево)\n",
    "        # Tree(0, Tree(1, Tree(3, None, None), Tree(4, None, None)), Tree(2, None, None))\n",
    "        return \"Tree(%r, %s, %s)\" % (self.value, repr(self.left), repr(self.right))\n",
    "            \n",
    "    \n",
    "tree = Tree(0, Tree(1, Tree(3), Tree(4)),                             \n",
    "               Tree(2))\n",
    "\n",
    "list(tree) == [3, 4, 2]"
   ]
  },
  {
   "cell_type": "markdown",
   "metadata": {
    "collapsed": true
   },
   "source": [
    "# Задание 4\n",
    "\n",
    "Реализовать простейший калькулятор математических выражений:\n",
    "- только целые числа\n",
    "- **+**, **\\-**, **\\***, **\\**\n",
    "- скобки\n",
    "\n",
    "**Можно использовать регулярные выражения**"
   ]
  },
  {
   "cell_type": "code",
   "execution_count": 3,
   "metadata": {},
   "outputs": [
    {
     "data": {
      "text/plain": [
       "True"
      ]
     },
     "execution_count": 3,
     "metadata": {},
     "output_type": "execute_result"
    }
   ],
   "source": [
    "import re\n",
    "\n",
    "# Функции вида eval_xxx(expr), вычисляют выражение типа xxx представленное\n",
    "# префиксом строки expr и возвращают пару (значение, остаток строки expr).\n",
    "# Предполагается что из выражения удалены пробелы (см. calc).\n",
    "\n",
    "def eval_number(expr):\n",
    "    \"\"\"\n",
    "        Вычисляет целочисленную константу без знака.\n",
    "    \"\"\"\n",
    "    m = re.match(\"^(\\d+)(.*)$\", expr)\n",
    "    # выражение всегда удволетворяет шаблону, тк eval_factor (единственное место \n",
    "    # откуда вызывается eval_number) проверяет что первый символ expr - цифра.\n",
    "    # Но все что может сломаться, однажды ломается, поэтому проверяем.\n",
    "    if not m:\n",
    "        raise SyntaxError(\"Bad number: '%s'\" % expr)\n",
    "    value, tail = m.groups()    \n",
    "    return int(value), tail\n",
    "\n",
    "def eval_factor(expr):\n",
    "    \"\"\" \n",
    "        Вычисляет \"множитель\": число или выражение в скобках с \n",
    "        факультативными унарными +-. \n",
    "    \"\"\"\n",
    "    # Знак выражения.\n",
    "    sign = 1\n",
    "    while expr and expr[0] in \"+-\":\n",
    "        if expr[0] == \"-\":\n",
    "            sign *= -1\n",
    "        expr = expr[1:]\n",
    "    if not expr:\n",
    "        raise SyntaxError(\"Unexpected end of expression.\")\n",
    "    if expr[0].isdigit():\n",
    "        value, tail = eval_number(expr)\n",
    "    elif expr[0] == \"(\":\n",
    "        value, tail = eval_expression(expr[1:])\n",
    "        if not tail:\n",
    "            raise SyntaxError(\"Unexpected end of expression.\")\n",
    "        if tail[0] != \")\":\n",
    "            raise SyntaxError(\"Closed bracket expected befor '%s'.\" % tail)\n",
    "        tail = tail[1:]\n",
    "    return value * sign, tail        \n",
    "        \n",
    "    \n",
    "def eval_term(expr):\n",
    "    \"\"\" Вычисляет \"произведение\" множителей. \"\"\"\n",
    "    value, tail = eval_factor(expr)\n",
    "    while tail and tail[0] in \"*/\":\n",
    "        op = tail[0]\n",
    "        rvalue, tail = eval_factor(tail[1:])\n",
    "        if op == \"*\":\n",
    "            value *= rvalue\n",
    "        else:\n",
    "            value /= rvalue\n",
    "    return value, tail        \n",
    "    \n",
    "def eval_expression(expr):\n",
    "    \"\"\" \n",
    "        Вычисляет выражение общего вида: \"сумму\" произведений. \n",
    "    \"\"\"\n",
    "    value, tail = eval_term(expr)\n",
    "    while tail and tail[0] in \"+-\":\n",
    "        op = tail[0]\n",
    "        rvalue, tail = eval_term(tail[1:])\n",
    "        if op == \"+\":\n",
    "            value += rvalue\n",
    "        else:\n",
    "            value -= rvalue \n",
    "    return value, tail    \n",
    "    \n",
    "def calc(expr):\n",
    "    # Проверяем что в выражении нет целых чисел разделенных \n",
    "    # пробельными символами.\n",
    "    # Если есть, то это синтаксическая ошибка.\n",
    "    m = re.search(r\"\\d+\\s+\\d+\", expr, re.MULTILINE)\n",
    "    if  m:\n",
    "         raise SyntaxError(\"Bad number: '%s'\" % expr[m.start():m.end()])\n",
    "    # Теперь можно безопасно удалить из выражения все пробельные символы.     \n",
    "    expr = re.sub(\"\\s+\", \"\", expr, flags=re.MULTILINE)\n",
    "    # Вычисляем выражение.\n",
    "    value, tail = eval_expression(expr)\n",
    "    # Выражение должно закончится.\n",
    "    if tail:\n",
    "        raise SyntaxError(\"Garbage symbols after the end of expression: '%s'\" % tail)\n",
    "    return value\n",
    "        \n",
    "calc('2 * (15 - 3 * 4) - 2') == 4"
   ]
  },
  {
   "cell_type": "code",
   "execution_count": null,
   "metadata": {
    "collapsed": true
   },
   "outputs": [],
   "source": []
  }
 ],
 "metadata": {
  "kernelspec": {
   "display_name": "Python 2",
   "language": "python",
   "name": "python2"
  },
  "language_info": {
   "codemirror_mode": {
    "name": "ipython",
    "version": 2
   },
   "file_extension": ".py",
   "mimetype": "text/x-python",
   "name": "python",
   "nbconvert_exporter": "python",
   "pygments_lexer": "ipython2",
   "version": "2.7.14"
  }
 },
 "nbformat": 4,
 "nbformat_minor": 1
}
