{
 "cells": [
  {
   "cell_type": "code",
   "execution_count": 6,
   "metadata": {
    "collapsed": true
   },
   "outputs": [],
   "source": [
    "# Переходим от целочисленного деления по умолчанию в стиле 2.xx\n",
    "# К рациональному делению в стиле 3.хх\n",
    "from __future__ import division\n",
    "\n",
    "import numpy as np\n",
    "import scipy as sp\n",
    "import matplotlib.pyplot as plt\n",
    "# import seaborn as sns\n",
    "\n",
    "%matplotlib inline\n",
    "\n",
    "\n",
    "class SpellChecker(object):\n",
    "    def __init__(self):\n",
    "        # Множество правельных слов.\n",
    "        self.dict_0 = set()\n",
    "        \n",
    "        # Множество слов без одной буквы:\n",
    "        # Фрагмент без одной буквы -> позиция удаленной буквы в исходном слове -> список исходных слов.\n",
    "        self.dict_m = {}\n",
    "        \n",
    "    def check(self, word):\n",
    "        return word in self.dict_0\n",
    "    \n",
    "    def variants(self, word):\n",
    "        retval = set()\n",
    "        # Варианты с добавлением одной буквы.\n",
    "        for lst in self.dict_m.get(word, {}).itervalues():\n",
    "            retval.update(lst)\n",
    "        \n",
    "        for i in xrange(len(word)):\n",
    "            # Слово без i-й буквы.\n",
    "            w = word[:i] + word[i+1:]\n",
    "            # Вариант с удалением одной буквы.\n",
    "            if w in self.dict_0:\n",
    "                retval.add(w)\n",
    "            # Варианты с заменой одной буквы.\n",
    "            try:\n",
    "                retval.update(self.dict_m[w][i])\n",
    "            except KeyError:\n",
    "                pass\n",
    "        return list(retval)\n",
    "\n",
    "    def index(self, word):\n",
    "        if word not in self.dict_0:\n",
    "            self.dict_0.add(word)\n",
    "            for i in xrange(len(word)):\n",
    "                # Слово без i-й буквы.\n",
    "                w = word[:i] + word[i+1:]\n",
    "                self.dict_m.setdefault(w, {}).setdefault(i, []).append(word)\n",
    "                \n"
   ]
  },
  {
   "cell_type": "code",
   "execution_count": 7,
   "metadata": {},
   "outputs": [
    {
     "data": {
      "text/plain": [
       "(['sdf'], ['sdf'], ['sdf'])"
      ]
     },
     "execution_count": 7,
     "metadata": {},
     "output_type": "execute_result"
    }
   ],
   "source": [
    "    sc = SpellChecker()\n",
    "    sc.index(\"sdf\")\n",
    "    sc.index(\"dfg\")\n",
    "    sc.variants(\"sd\"), sc.variants(\"sdff\"), sc.variants(\"sdd\")"
   ]
  },
  {
   "cell_type": "code",
   "execution_count": 8,
   "metadata": {
    "collapsed": true
   },
   "outputs": [],
   "source": [
    "# Итератор проходящий по всем словам сохраненных новостей.\n",
    "import sqlite3\n",
    "import re\n",
    "\n",
    "def words_iter():\n",
    "    conn = sqlite3.connect(\"db.sqlite\")\n",
    "    curr = conn.execute(\"SELECT title, body FROM news_tbl\")\n",
    "    while True:\n",
    "        rows = curr.fetchmany()\n",
    "        if not rows:\n",
    "            break\n",
    "        words = u\" \".join(sum(rows, ())).lower().encode(\"cp866\", \"replace\").decode(\"cp866\")\n",
    "        for w in re.split(u\"[^а-яa-z]+\", words):\n",
    "            if w: yield w\n"
   ]
  },
  {
   "cell_type": "code",
   "execution_count": 9,
   "metadata": {
    "collapsed": true
   },
   "outputs": [],
   "source": [
    "import random\n",
    "\n",
    "# Функция искажающая слово.\n",
    "def misspel(word):\n",
    "    mode = random.choice([\"add\", \"remove\", \"replace\"])\n",
    "    i = random.randint(0, len(word)-1)\n",
    "    if mode == \"add\":\n",
    "        return word[:i] + \"g\" + word[i:]\n",
    "    if mode == \"remove\":\n",
    "        return word[:i] + word[i+1:]\n",
    "    if mode == \"replace\":\n",
    "        return word[:i] + word[0] + word[i+1:]\n",
    "\n",
    "# Заносим в чекер 1000 уникальных слов.\n",
    "sc = SpellChecker()\n",
    "for word in words_iter():\n",
    "    sc.index(word)\n",
    "    if len(sc.dict_0) > 1000:\n",
    "        break\n",
    "        \n",
    "# Проверяем, что можем их восстановить.\n",
    "for word in sc.dict_0:\n",
    "    assert word in sc.variants(misspel(word))\n",
    "    "
   ]
  },
  {
   "cell_type": "code",
   "execution_count": 10,
   "metadata": {},
   "outputs": [
    {
     "data": {
      "image/png": "[encoded data removed]",
      "text/plain": [
       "<matplotlib.figure.Figure at 0x912e6a0>"
      ]
     },
     "metadata": {},
     "output_type": "display_data"
    },
    {
     "data": {
      "image/png": "[encoded data removed]",
      "text/plain": [
       "<matplotlib.figure.Figure at 0x33582860>"
      ]
     },
     "metadata": {},
     "output_type": "display_data"
    }
   ],
   "source": [
    "# Статистики Ципфа и Хипса.\n",
    "import collections\n",
    "\n",
    "N = 100000  # Максимальное число слов в выборке.\n",
    "counters = collections.defaultdict(int)\n",
    "n_uniques = []\n",
    "n_all = []\n",
    "\n",
    "for i, word in enumerate(words_iter()):\n",
    "    if i and i % (N // 100):\n",
    "        n_uniques.append(len(counters))\n",
    "        n_all.append(i+1)\n",
    "    counters[word] += 1\n",
    "    \n",
    "plt.plot(n_all, n_uniques);\n",
    "plt.title(\"Heaps' low\");\n",
    "\n",
    "plt.figure()\n",
    "plt.plot(sorted(counters.values())[::-1][:170])\n",
    "plt.title(\"Zipf's law\");"
   ]
  },
  {
   "cell_type": "code",
   "execution_count": null,
   "metadata": {
    "collapsed": true
   },
   "outputs": [],
   "source": []
  },
  {
   "cell_type": "code",
   "execution_count": null,
   "metadata": {
    "collapsed": true
   },
   "outputs": [],
   "source": []
  },
  {
   "cell_type": "code",
   "execution_count": null,
   "metadata": {
    "collapsed": true
   },
   "outputs": [],
   "source": []
  }
 ],
 "metadata": {
  "kernelspec": {
   "display_name": "Python 2",
   "language": "python",
   "name": "python2"
  },
  "language_info": {
   "codemirror_mode": {
    "name": "ipython",
    "version": 2
   },
   "file_extension": ".py",
   "mimetype": "text/x-python",
   "name": "python",
   "nbconvert_exporter": "python",
   "pygments_lexer": "ipython2",
   "version": "2.7.14"
  }
 },
 "nbformat": 4,
 "nbformat_minor": 1
}
